{
 "cells": [
  {
   "cell_type": "markdown",
   "id": "8dcc5417-2685-44cb-99c0-b6cd08f415e2",
   "metadata": {},
   "source": [
    "# TUPLE"
   ]
  },
  {
   "cell_type": "markdown",
   "id": "f7fc7a25-3eac-48c2-b6bc-734889882928",
   "metadata": {},
   "source": [
    "## Q.1.Join Tuples if similar initial element"
   ]
  },
  {
   "cell_type": "markdown",
   "id": "86dc284e-0b51-4155-9bcb-ad47f91f7bde",
   "metadata": {},
   "source": [
    "While working with Python tuples, we can have a problem in which we need to perform concatenation of records from the similarity of initial element. This problem can have applications in data domains such as Data Science. For eg. Input : test_list = [(5, 6), (5, 7), (5, 8), (6, 10), (7, 13)] Output : [(5, 6, 7, 8), (6, 10), (7, 13)]"
   ]
  },
  {
   "cell_type": "code",
   "execution_count": 6,
   "id": "326c66f8-3578-4441-b21d-37a20bdf2427",
   "metadata": {},
   "outputs": [
    {
     "name": "stdout",
     "output_type": "stream",
     "text": [
      "[(5, 6), (5, 7), (6, 8), (6, 10), (7, 13)]\n",
      "[(5, 6, 7), (6, 8, 10), (7, 13)]\n"
     ]
    }
   ],
   "source": [
    "listt = [(5, 6), (5, 7), (6, 8), (6, 10), (7, 13)]\n",
    "print(str(listt))\n",
    "res = []\n",
    "for sub in listt:\n",
    "\tif res and res[-1][0] == sub[0]:\n",
    "\t\tres[-1].extend(sub[1:])\n",
    "\telse:\n",
    "\t\tres.append([ele for ele in sub])\n",
    "res = list(map(tuple, res))\n",
    "print( str(res))\n"
   ]
  },
  {
   "cell_type": "code",
   "execution_count": null,
   "id": "e7d59f60-d026-472c-af0e-b326db42c155",
   "metadata": {},
   "outputs": [],
   "source": []
  },
  {
   "cell_type": "code",
   "execution_count": null,
   "id": "07f9e8ae-0ee0-458e-8b25-1db35ecf9689",
   "metadata": {},
   "outputs": [],
   "source": []
  },
  {
   "cell_type": "markdown",
   "id": "c9d5c1ea-b27e-4443-9dcf-4b5ee02da9b2",
   "metadata": {},
   "source": [
    "# DICTONARY"
   ]
  },
  {
   "cell_type": "markdown",
   "id": "a5c62c32-89f1-4bd8-b2a1-37630d7f52b4",
   "metadata": {},
   "source": [
    "## Q.1) Key with maximum unique values,Given a dictionary with values list, extract key whose value has most unique values."
   ]
  },
  {
   "cell_type": "code",
   "execution_count": 4,
   "id": "7fec3bbb-7b5c-4563-a767-4a6e2ca93b15",
   "metadata": {},
   "outputs": [
    {
     "name": "stdout",
     "output_type": "stream",
     "text": [
      "The original dictionary is : {'CampusX': [5, 7, 9, 4, 0], 'is': [6, 7, 4, 3, 3], 'Best': [9, 9, 6, 5, 5]}\n",
      "Key with maximum unique values : CampusX\n"
     ]
    }
   ],
   "source": [
    "dict = {\"CampusX\" : [5, 7, 9, 4, 0],\n",
    "\t\t\t\"is\" : [6, 7, 4, 3, 3],\n",
    "\t\t\t\"Best\" : [9, 9, 6, 5, 5]}\n",
    "print(\"The original dictionary is : \" + str(dict))\n",
    "max_val = 0\n",
    "max_key = None\n",
    "\n",
    "for sub in dict:\n",
    "\tif len(set(dict[sub])) > max_val:\n",
    "\t\tmax_val = len(set(dict[sub]))\n",
    "\t\tmax_key = sub\n",
    "print(\"Key with maximum unique values : \" + str(max_key))\n"
   ]
  },
  {
   "cell_type": "markdown",
   "id": "fda1647a-3386-442c-b4d3-9d03f8a0016f",
   "metadata": {},
   "source": [
    "## Q.2) Replace words from Dictionary. Given String, replace it’s words from lookup dictionary."
   ]
  },
  {
   "cell_type": "code",
   "execution_count": 7,
   "id": "e21cac89-26e6-444c-b3cb-adbdb6c51134",
   "metadata": {},
   "outputs": [
    {
     "name": "stdout",
     "output_type": "stream",
     "text": [
      "The original string is : CampusX best for DS students.\n",
      "Replaced Strings : CampusX is the best channel for Data-Science students.\n"
     ]
    }
   ],
   "source": [
    "test_str ='CampusX best for DS students.'\n",
    "print(\"The original string is : \" + str(test_str))\n",
    "lookp_dict = {\"best\" : \"is the best channel\", \"DS\" : \"Data-Science\"}\n",
    "temp = []\n",
    "for word in test_str.split():\n",
    "\ttemp.append(lookp_dict.get(word, word))\n",
    "res = \" \".join(temp)\n",
    "print(\"Replaced Strings : \" + str(res)) \n"
   ]
  },
  {
   "cell_type": "markdown",
   "id": "36453adb-c68d-4983-95cd-e6b6ae7021b2",
   "metadata": {},
   "source": [
    "## Q.3) Convert List to List of dictionaries. Given list values and keys list, convert these values to key value pairs in form of list of dictionaries."
   ]
  },
  {
   "cell_type": "code",
   "execution_count": 10,
   "id": "019afc5c-10b0-493c-82c5-e797fa2e3627",
   "metadata": {},
   "outputs": [
    {
     "name": "stdout",
     "output_type": "stream",
     "text": [
      "The original list : ['DataScience', 3, 'is', 8]\n",
      "The constructed dictionary list : [{'name': 'DataScience', 'id': 3}, {'name': 'is', 'id': 8}]\n"
     ]
    }
   ],
   "source": [
    "#EXAMPLE 1\n",
    "test_list = [\"DataScience\", 3, \"is\", 8]\n",
    "print(\"The original list : \" + str(test_list))\n",
    "key_list = [\"name\", \"id\"]\n",
    "n = len(test_list)\n",
    "res = []\n",
    "for idx in range(0, n, 2):\n",
    "\tres.append({key_list[0]: test_list[idx], key_list[1] : test_list[idx + 1]})\n",
    "print(\"The constructed dictionary list : \" + str(res))\n",
    "\n"
   ]
  },
  {
   "cell_type": "code",
   "execution_count": 12,
   "id": "19c228a2-d366-45a5-a0c8-6d8e5c036ecf",
   "metadata": {},
   "outputs": [
    {
     "name": "stdout",
     "output_type": "stream",
     "text": [
      "The original list : ['CampusX', 10]\n",
      "The constructed dictionary list : [{'name': 'CampusX', 'id': 10}]\n"
     ]
    }
   ],
   "source": [
    "#EXAMPLE 2\n",
    "test_list = [\"CampusX\", 10]\n",
    "print(\"The original list : \" + str(test_list))\n",
    "key_list = [\"name\", \"id\"]\n",
    "n = len(test_list)\n",
    "res = []\n",
    "for idx in range(0, n, 2):\n",
    "\tres.append({key_list[0]: test_list[idx], key_list[1] : test_list[idx + 1]})\n",
    "print(\"The constructed dictionary list : \" + str(res))"
   ]
  },
  {
   "cell_type": "markdown",
   "id": "41a1d9d2-64c0-4daa-8fff-514488af508d",
   "metadata": {},
   "source": [
    "## Q.4) Convert a list of Tuples into Dictionary."
   ]
  },
  {
   "cell_type": "code",
   "execution_count": 15,
   "id": "c5f2b5a4-80b0-4862-b5d1-11953a376491",
   "metadata": {},
   "outputs": [
    {
     "name": "stdout",
     "output_type": "stream",
     "text": [
      "{'akash': [10], 'gaurav': [12], 'anand': [14], 'suraj': [20], 'akhil': [25], 'ashish': [30]}\n"
     ]
    }
   ],
   "source": [
    "# EXAMPLE 1\n",
    "def Convert(tup, di):\n",
    "\tfor a, b in tup:\n",
    "\t\tdi.setdefault(a, []).append(b)\n",
    "\treturn di\n",
    "tups = [(\"akash\", 10), (\"gaurav\", 12), (\"anand\", 14), (\"suraj\", 20), (\"akhil\", 25), (\"ashish\", 30)]\n",
    "dictionary = {}\n",
    "print(Convert(tups, dictionary))\n"
   ]
  },
  {
   "cell_type": "code",
   "execution_count": 17,
   "id": "9c35064f-00a0-4493-aad0-478104766deb",
   "metadata": {},
   "outputs": [
    {
     "name": "stdout",
     "output_type": "stream",
     "text": [
      "{'A': [1], 'B': [2], 'C': [3]}\n"
     ]
    }
   ],
   "source": [
    "# EXAMPLE 2\n",
    "def Convert(tup, di):\n",
    "\tfor a, b in tup:\n",
    "\t\tdi.setdefault(a, []).append(b)\n",
    "\treturn di\n",
    "tups = [('A', 1), ('B', 2), ('C', 3)]\n",
    "dictionary = {}\n",
    "print(Convert(tups, dictionary))\n"
   ]
  },
  {
   "cell_type": "markdown",
   "id": "919fbecb-6145-473a-855a-9cd2bdd94599",
   "metadata": {},
   "source": [
    "## Q.5) Sort Dictionary key and values List."
   ]
  },
  {
   "cell_type": "code",
   "execution_count": 1,
   "id": "c0d53c51-a073-42d6-9dec-0c0c0f6b2dce",
   "metadata": {},
   "outputs": [
    {
     "name": "stdout",
     "output_type": "stream",
     "text": [
      "The original dictionary is : {'c': [3], 'b': [12, 10], 'a': [19, 4]}\n",
      "The sorted dictionary : {'a': [4, 19], 'b': [10, 12], 'c': [3]}\n"
     ]
    }
   ],
   "source": [
    "LIST = {'c': [3], 'b': [12, 10], 'a': [19, 4]}\n",
    "print(\"The original dictionary is : \" + str(LIST))\n",
    "res = dict()\n",
    "for key in sorted(LIST):\n",
    "\tres[key] = sorted(LIST[key])\n",
    "print(\"The sorted dictionary : \" + str(res)) "
   ]
  },
  {
   "cell_type": "code",
   "execution_count": null,
   "id": "ce05169f-27e6-4598-8b87-b13e41fc71b3",
   "metadata": {},
   "outputs": [],
   "source": []
  }
 ],
 "metadata": {
  "kernelspec": {
   "display_name": "Python 3 (ipykernel)",
   "language": "python",
   "name": "python3"
  },
  "language_info": {
   "codemirror_mode": {
    "name": "ipython",
    "version": 3
   },
   "file_extension": ".py",
   "mimetype": "text/x-python",
   "name": "python",
   "nbconvert_exporter": "python",
   "pygments_lexer": "ipython3",
   "version": "3.11.7"
  }
 },
 "nbformat": 4,
 "nbformat_minor": 5
}
